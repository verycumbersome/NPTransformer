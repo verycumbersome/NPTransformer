{
 "cells": [
  {
   "cell_type": "code",
   "execution_count": 1,
   "metadata": {
    "ExecuteTime": {
     "start_time": "2021-01-31T02:42:19.632Z"
    }
   },
   "outputs": [
    {
     "name": "stderr",
     "output_type": "stream",
     "text": [
      "Warning : `load_model` does not return WordVectorModel or SupervisedModel any more, but a `FastText` object which is very similar.\n",
      "Warning : `load_model` does not return WordVectorModel or SupervisedModel any more, but a `FastText` object which is very similar.\n"
     ]
    },
    {
     "name": "stdout",
     "output_type": "stream",
     "text": [
      "yes\n"
     ]
    }
   ],
   "source": [
    "import os\n",
    "import math\n",
    "\n",
    "import numpy as np\n",
    "import fasttext.util\n",
    "\n",
    "import utils\n",
    "\n",
    "\n",
    "embeddings = utils.get_embeddings([\"en\", \"fr\"])\n",
    "\n",
    "en_emb = embeddings[\"en\"]\n",
    "fr_emb = embeddings[\"fr\"]\n",
    "print(\"yes\")"
   ]
  },
  {
   "cell_type": "code",
   "execution_count": 6,
   "metadata": {
    "ExecuteTime": {
     "start_time": "2021-01-31T02:42:20.695Z"
    }
   },
   "outputs": [
    {
     "name": "stdout",
     "output_type": "stream",
     "text": [
      "{'input': 'the cat likes oranges', 'target': 'le chat aime les oranges', 'input_embedding': array([[ 1.66990623e-01, -1.18591875e-01,  2.26854086e-02,\n",
      "         9.37557518e-02,  4.71362472e-02,  3.38186175e-02,\n",
      "         7.64891580e-02, -8.32068846e-02,  2.73817405e-02,\n",
      "         3.21494825e-02,  4.83908653e-02,  1.49061069e-01,\n",
      "         2.08143353e-01, -2.12923363e-02,  9.45081711e-02,\n",
      "         1.43020265e-02, -3.42536308e-02,  7.64139444e-02,\n",
      "        -2.43578311e-02,  9.10279453e-02,  1.07339360e-02,\n",
      "         9.78427008e-02, -6.92236237e-03, -1.38092190e-01,\n",
      "        -6.40805252e-03, -6.01041615e-02, -9.97035354e-02,\n",
      "         6.42363541e-03, -6.74770214e-03, -1.28166586e-01,\n",
      "         8.96790773e-02,  1.56000666e-02,  7.70670623e-02,\n",
      "         2.00899839e-02,  2.49394104e-02, -4.41633128e-02,\n",
      "        -6.98457882e-02,  3.94032858e-02,  3.63518372e-02,\n",
      "         1.46088660e-01,  1.01135530e-01,  3.57998013e-02,\n",
      "         2.66445614e-02, -4.17234525e-02, -1.47688538e-02,\n",
      "         4.26694490e-02,  2.67332733e-01,  1.14132166e-01,\n",
      "        -2.99932152e-01, -1.81434423e-01],\n",
      "       [ 1.79276615e-02, -1.69745207e-01, -2.52429307e-01,\n",
      "        -3.62095952e-01,  3.19010109e-01, -3.08946699e-01,\n",
      "         2.12069869e-01,  2.66692907e-01, -2.51345009e-01,\n",
      "         1.53503716e-01, -1.06165737e-01,  2.49924213e-02,\n",
      "        -1.63996607e-01,  8.05923641e-02, -2.12572277e-01,\n",
      "        -2.94827193e-01, -3.81158814e-02, -4.34240997e-02,\n",
      "         1.78681612e-01, -1.58732414e-01,  1.29522905e-02,\n",
      "         6.75725862e-02, -1.08950108e-01,  9.65461582e-02,\n",
      "         1.09707825e-01,  4.08432856e-02, -1.96649469e-02,\n",
      "        -1.46140426e-01,  2.73141935e-02, -1.35992229e-01,\n",
      "        -1.47776201e-01,  1.54231071e-01,  2.11173117e-01,\n",
      "        -1.76167876e-01,  1.69785812e-01,  5.42555749e-02,\n",
      "         2.15979606e-01, -1.66618861e-02,  3.41567248e-02,\n",
      "         1.78232983e-01,  1.72094643e-01,  1.35404438e-01,\n",
      "         3.08116972e-01, -4.46093641e-02,  1.62184522e-01,\n",
      "         3.42065752e-01,  1.91971242e-01,  8.74315873e-02,\n",
      "        -1.39632091e-01, -2.17689835e-02],\n",
      "       [ 1.28451318e-01, -1.11585744e-02, -1.00074187e-01,\n",
      "        -1.73740149e-01,  1.67277217e-01,  2.92062331e-02,\n",
      "        -7.70467594e-02, -6.99092448e-03, -7.65832663e-02,\n",
      "        -2.90852450e-02,  6.24555442e-03,  1.46520324e-03,\n",
      "        -1.36707306e-01, -4.54922095e-02,  1.03606559e-01,\n",
      "         4.84639928e-02,  9.94405970e-02, -3.87273915e-02,\n",
      "         4.33629900e-02,  3.78182307e-02,  6.51527792e-02,\n",
      "         8.30079615e-03,  8.91500115e-02,  1.27202496e-01,\n",
      "         2.72738766e-02,  6.14218116e-02,  6.24083616e-02,\n",
      "        -6.31764308e-02,  7.98456967e-02, -8.96545798e-02,\n",
      "        -1.08850464e-01,  3.52893025e-03,  1.77405830e-02,\n",
      "        -4.96731773e-02,  1.95613131e-03,  1.81413703e-02,\n",
      "        -1.52183427e-02,  3.39936838e-02,  9.91608668e-03,\n",
      "         1.25028566e-02,  1.16333537e-01,  5.14526404e-02,\n",
      "        -3.24809588e-02,  8.64739567e-02,  4.69777063e-02,\n",
      "         4.92623113e-02,  8.46454203e-02, -3.35980728e-02,\n",
      "        -1.56735912e-01,  2.66058370e-02],\n",
      "       [-4.49486189e-02, -1.14377737e-01, -8.71759057e-02,\n",
      "        -8.57021064e-02,  1.10579841e-02, -1.06375359e-01,\n",
      "         8.41119140e-02, -5.44437468e-02,  7.07557052e-03,\n",
      "         6.96026906e-02, -1.92172322e-02,  1.64767392e-02,\n",
      "        -7.84868598e-02,  8.69277343e-02,  3.36020030e-02,\n",
      "         1.31413281e-01,  5.76841049e-02, -6.77210614e-02,\n",
      "         1.15586415e-01,  1.14827685e-01,  3.68347690e-02,\n",
      "         9.71119106e-03, -5.84925227e-02, -7.83352554e-02,\n",
      "        -2.69986670e-02,  4.48958874e-02,  2.88813114e-02,\n",
      "         5.41871041e-02,  1.92906503e-02,  1.72246876e-03,\n",
      "         2.07025670e-02, -2.12653234e-04,  1.34419533e-03,\n",
      "         7.89639167e-03, -5.19914133e-03,  1.01440087e-01,\n",
      "         7.18532726e-02, -5.45694828e-02,  1.43085048e-02,\n",
      "         5.22336140e-02,  9.19300765e-02, -4.09099497e-02,\n",
      "        -8.29884969e-03,  2.38011461e-02,  5.04803732e-02,\n",
      "         1.19818553e-01,  2.29160469e-02,  4.18765936e-03,\n",
      "        -6.86023980e-02,  4.65419739e-02]], dtype=float32), 'target_embedding': array([[ 0.10709047, -0.5281988 ,  0.01931942, ...,  0.14863157,\n",
      "        -0.30329764, -0.2179346 ],\n",
      "       [-0.67744225, -0.53106266,  0.30984983, ..., -0.06004798,\n",
      "         0.1117549 , -0.00478937],\n",
      "       [ 0.        ,  0.        ,  0.        , ...,  0.        ,\n",
      "         0.        ,  0.        ],\n",
      "       ...,\n",
      "       [-1.1296868 , -0.97862774,  0.44244948, ...,  0.00613306,\n",
      "         0.13409777, -0.1828228 ],\n",
      "       [-0.67744225, -0.53106266,  0.30984983, ..., -0.06004798,\n",
      "         0.1117549 , -0.00478937],\n",
      "       [-0.19802126, -0.5308491 ,  0.63903207, ...,  0.23700394,\n",
      "        -0.12561794,  0.10434902]], dtype=float32)}\n"
     ]
    }
   ],
   "source": [
    "class TranslationDataset():\n",
    "    def __init__(self, inputs, targets, embeddings):\n",
    "        self.inputs = inputs \n",
    "        self.targets = targets \n",
    "        \n",
    "        # Encoders for both languages\n",
    "        en_i = embeddings[\"en\"]\n",
    "        en_t = embeddings[\"fr\"]\n",
    "        \n",
    "        self.input_em = []\n",
    "        for seq in inputs:\n",
    "            self.input_em.append(np.array([en_i.get_word_vector(w) for w in seq.split()]))\n",
    "            \n",
    "        self.target_em = []\n",
    "        for seq in targets:\n",
    "            self.target_em.append(np.array([en_t.get_word_vector(w) for w in seq]))\n",
    "\n",
    "    def __len__(self):\n",
    "        return (len(self.sequence))\n",
    "\n",
    "    def __getitem__(self, idx):\n",
    "        return({\n",
    "            \"input\":self.inputs[idx],\n",
    "            \"target\":self.targets[idx],\n",
    "            \"input_embedding\":self.input_em[idx],\n",
    "            \"target_embedding\":self.target_em[idx],\n",
    "        })\n",
    "    \n",
    "data = [\"the cat likes oranges\", \"hello my friend\"]\n",
    "target = [\"le chat aime les oranges\", \"bonjour mon amie\"]\n",
    "\n",
    "dataset = TranslationDataset(data, target, embeddings) \n",
    "\n",
    "print(dataset[0])"
   ]
  },
  {
   "cell_type": "code",
   "execution_count": 35,
   "metadata": {
    "ExecuteTime": {
     "end_time": "2021-01-31T02:42:15.861997Z",
     "start_time": "2021-01-31T02:42:15.857166Z"
    }
   },
   "outputs": [
    {
     "ename": "NameError",
     "evalue": "name 'math' is not defined",
     "output_type": "error",
     "traceback": [
      "\u001b[0;31m---------------------------------------------------------------------------\u001b[0m",
      "\u001b[0;31mNameError\u001b[0m                                 Traceback (most recent call last)",
      "\u001b[0;32m<ipython-input-35-fabdc261e599>\u001b[0m in \u001b[0;36m<module>\u001b[0;34m\u001b[0m\n\u001b[1;32m     10\u001b[0m     \u001b[0;32mpass\u001b[0m\u001b[0;34m\u001b[0m\u001b[0;34m\u001b[0m\u001b[0m\n\u001b[1;32m     11\u001b[0m \u001b[0;34m\u001b[0m\u001b[0m\n\u001b[0;32m---> 12\u001b[0;31m \u001b[0mpos_encoding\u001b[0m\u001b[0;34m(\u001b[0m\u001b[0mdataset\u001b[0m\u001b[0;34m[\u001b[0m\u001b[0;36m0\u001b[0m\u001b[0;34m]\u001b[0m\u001b[0;34m[\u001b[0m\u001b[0;34m\"input_embedding\"\u001b[0m\u001b[0;34m]\u001b[0m\u001b[0;34m)\u001b[0m\u001b[0;34m\u001b[0m\u001b[0;34m\u001b[0m\u001b[0m\n\u001b[0m",
      "\u001b[0;32m<ipython-input-35-fabdc261e599>\u001b[0m in \u001b[0;36mpos_encoding\u001b[0;34m(seq)\u001b[0m\n\u001b[1;32m      3\u001b[0m     \u001b[0md_model\u001b[0m \u001b[0;34m=\u001b[0m \u001b[0mseq\u001b[0m\u001b[0;34m.\u001b[0m\u001b[0mshape\u001b[0m\u001b[0;34m[\u001b[0m\u001b[0;36m1\u001b[0m\u001b[0;34m]\u001b[0m\u001b[0;34m\u001b[0m\u001b[0;34m\u001b[0m\u001b[0m\n\u001b[1;32m      4\u001b[0m \u001b[0;34m\u001b[0m\u001b[0m\n\u001b[0;32m----> 5\u001b[0;31m     \u001b[0mwi_s\u001b[0m \u001b[0;34m=\u001b[0m \u001b[0;34m[\u001b[0m\u001b[0mmath\u001b[0m\u001b[0;34m.\u001b[0m\u001b[0msin\u001b[0m\u001b[0;34m(\u001b[0m\u001b[0mx\u001b[0m\u001b[0;34m)\u001b[0m \u001b[0;34m*\u001b[0m \u001b[0;34m(\u001b[0m\u001b[0mx\u001b[0m \u001b[0;34m%\u001b[0m \u001b[0;36m2\u001b[0m\u001b[0;34m)\u001b[0m \u001b[0;32mfor\u001b[0m \u001b[0mx\u001b[0m \u001b[0;32min\u001b[0m \u001b[0mrange\u001b[0m\u001b[0;34m(\u001b[0m\u001b[0mseq_len\u001b[0m\u001b[0;34m)\u001b[0m\u001b[0;34m]\u001b[0m\u001b[0;34m\u001b[0m\u001b[0;34m\u001b[0m\u001b[0m\n\u001b[0m\u001b[1;32m      6\u001b[0m     \u001b[0mwi_c\u001b[0m \u001b[0;34m=\u001b[0m \u001b[0;34m[\u001b[0m\u001b[0mmath\u001b[0m\u001b[0;34m.\u001b[0m\u001b[0mcos\u001b[0m\u001b[0;34m(\u001b[0m\u001b[0mx\u001b[0m\u001b[0;34m)\u001b[0m \u001b[0;34m*\u001b[0m \u001b[0;34m(\u001b[0m\u001b[0;34m(\u001b[0m\u001b[0mx\u001b[0m \u001b[0;34m+\u001b[0m \u001b[0;36m1\u001b[0m\u001b[0;34m)\u001b[0m \u001b[0;34m%\u001b[0m \u001b[0;36m2\u001b[0m\u001b[0;34m)\u001b[0m \u001b[0;32mfor\u001b[0m \u001b[0mx\u001b[0m \u001b[0;32min\u001b[0m \u001b[0mrange\u001b[0m\u001b[0;34m(\u001b[0m\u001b[0mseq_len\u001b[0m\u001b[0;34m)\u001b[0m\u001b[0;34m]\u001b[0m\u001b[0;34m\u001b[0m\u001b[0;34m\u001b[0m\u001b[0m\n\u001b[1;32m      7\u001b[0m     \u001b[0mprint\u001b[0m\u001b[0;34m(\u001b[0m\u001b[0mwi_s\u001b[0m\u001b[0;34m)\u001b[0m\u001b[0;34m\u001b[0m\u001b[0;34m\u001b[0m\u001b[0m\n",
      "\u001b[0;32m<ipython-input-35-fabdc261e599>\u001b[0m in \u001b[0;36m<listcomp>\u001b[0;34m(.0)\u001b[0m\n\u001b[1;32m      3\u001b[0m     \u001b[0md_model\u001b[0m \u001b[0;34m=\u001b[0m \u001b[0mseq\u001b[0m\u001b[0;34m.\u001b[0m\u001b[0mshape\u001b[0m\u001b[0;34m[\u001b[0m\u001b[0;36m1\u001b[0m\u001b[0;34m]\u001b[0m\u001b[0;34m\u001b[0m\u001b[0;34m\u001b[0m\u001b[0m\n\u001b[1;32m      4\u001b[0m \u001b[0;34m\u001b[0m\u001b[0m\n\u001b[0;32m----> 5\u001b[0;31m     \u001b[0mwi_s\u001b[0m \u001b[0;34m=\u001b[0m \u001b[0;34m[\u001b[0m\u001b[0mmath\u001b[0m\u001b[0;34m.\u001b[0m\u001b[0msin\u001b[0m\u001b[0;34m(\u001b[0m\u001b[0mx\u001b[0m\u001b[0;34m)\u001b[0m \u001b[0;34m*\u001b[0m \u001b[0;34m(\u001b[0m\u001b[0mx\u001b[0m \u001b[0;34m%\u001b[0m \u001b[0;36m2\u001b[0m\u001b[0;34m)\u001b[0m \u001b[0;32mfor\u001b[0m \u001b[0mx\u001b[0m \u001b[0;32min\u001b[0m \u001b[0mrange\u001b[0m\u001b[0;34m(\u001b[0m\u001b[0mseq_len\u001b[0m\u001b[0;34m)\u001b[0m\u001b[0;34m]\u001b[0m\u001b[0;34m\u001b[0m\u001b[0;34m\u001b[0m\u001b[0m\n\u001b[0m\u001b[1;32m      6\u001b[0m     \u001b[0mwi_c\u001b[0m \u001b[0;34m=\u001b[0m \u001b[0;34m[\u001b[0m\u001b[0mmath\u001b[0m\u001b[0;34m.\u001b[0m\u001b[0mcos\u001b[0m\u001b[0;34m(\u001b[0m\u001b[0mx\u001b[0m\u001b[0;34m)\u001b[0m \u001b[0;34m*\u001b[0m \u001b[0;34m(\u001b[0m\u001b[0;34m(\u001b[0m\u001b[0mx\u001b[0m \u001b[0;34m+\u001b[0m \u001b[0;36m1\u001b[0m\u001b[0;34m)\u001b[0m \u001b[0;34m%\u001b[0m \u001b[0;36m2\u001b[0m\u001b[0;34m)\u001b[0m \u001b[0;32mfor\u001b[0m \u001b[0mx\u001b[0m \u001b[0;32min\u001b[0m \u001b[0mrange\u001b[0m\u001b[0;34m(\u001b[0m\u001b[0mseq_len\u001b[0m\u001b[0;34m)\u001b[0m\u001b[0;34m]\u001b[0m\u001b[0;34m\u001b[0m\u001b[0;34m\u001b[0m\u001b[0m\n\u001b[1;32m      7\u001b[0m     \u001b[0mprint\u001b[0m\u001b[0;34m(\u001b[0m\u001b[0mwi_s\u001b[0m\u001b[0;34m)\u001b[0m\u001b[0;34m\u001b[0m\u001b[0;34m\u001b[0m\u001b[0m\n",
      "\u001b[0;31mNameError\u001b[0m: name 'math' is not defined"
     ]
    }
   ],
   "source": [
    "def pos_encoding(seq):\n",
    "    seq_len = seq.shape[0]\n",
    "    d_model = seq.shape[1]\n",
    "    \n",
    "    wi_s = [math.sin(x) * (x % 2) for x in range(seq_len)]\n",
    "    wi_c = [math.cos(x) * ((x + 1) % 2) for x in range(seq_len)]\n",
    "    print(wi_s)\n",
    "    print(wi_c)\n",
    "    print(seq)\n",
    "    pass\n",
    "\n",
    "pos_encoding(dataset[0][\"input_embedding\"])"
   ]
  }
 ],
 "metadata": {
  "kernelspec": {
   "display_name": "Python 3",
   "language": "python",
   "name": "python3"
  },
  "language_info": {
   "codemirror_mode": {
    "name": "ipython",
    "version": 3
   },
   "file_extension": ".py",
   "mimetype": "text/x-python",
   "name": "python",
   "nbconvert_exporter": "python",
   "pygments_lexer": "ipython3",
   "version": "3.9.1"
  }
 },
 "nbformat": 4,
 "nbformat_minor": 4
}
