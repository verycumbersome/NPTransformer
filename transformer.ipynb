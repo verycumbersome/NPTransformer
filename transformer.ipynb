{
 "cells": [
  {
   "cell_type": "code",
   "execution_count": 1,
   "metadata": {},
   "outputs": [
    {
     "name": "stderr",
     "output_type": "stream",
     "text": [
      "Warning : `load_model` does not return WordVectorModel or SupervisedModel any more, but a `FastText` object which is very similar.\n"
     ]
    },
    {
     "name": "stdout",
     "output_type": "stream",
     "text": [
      "[-3.77932414e-02 -7.48623312e-02  5.36113977e-03 -1.88651770e-01\n",
      "  2.31823519e-01 -9.02557671e-02 -1.85356624e-02 -3.59985270e-02\n",
      " -2.18492076e-01 -3.74542698e-02 -1.33446172e-01 -1.46663375e-02\n",
      " -1.28970921e-01 -5.31877279e-02 -9.67253372e-02  6.52965158e-02\n",
      "  3.67804058e-02  3.78243960e-02 -1.79342050e-02 -6.35600388e-02\n",
      " -3.46156396e-02  4.54589985e-02 -1.32175848e-01  6.52020425e-02\n",
      "  7.24387355e-05  3.98975909e-02 -6.35139942e-02 -1.84112340e-02\n",
      "  5.47658689e-02 -8.15919340e-02 -5.52154779e-02 -6.42137527e-02\n",
      "  1.25363283e-03 -1.10312156e-01  1.16131492e-01 -1.20988684e-02\n",
      " -3.04611605e-02 -5.16643412e-02 -8.17772299e-02  4.02648048e-03\n",
      " -6.12651780e-02 -5.20673394e-02  1.37238607e-01 -5.90113662e-02\n",
      " -9.36998352e-02  6.19485155e-02  7.15416148e-02  6.54940158e-02\n",
      " -9.18800384e-02  2.10420489e-02]\n"
     ]
    }
   ],
   "source": [
    "import fasttext.util\n",
    "\n",
    "ft = fasttext.load_model('cc.en.300.bin')\n",
    "fasttext.util.reduce_model(ft, 50)\n",
    "ft.get_dimension()\n",
    "\n",
    "print(ft.get_word_vector('hello'))"
   ]
  },
  {
   "cell_type": "code",
   "execution_count": 5,
   "metadata": {
    "scrolled": true
   },
   "outputs": [
    {
     "name": "stdout",
     "output_type": "stream",
     "text": [
      "[-3.77932414e-02 -7.48623312e-02  5.36113977e-03 -1.88651770e-01\n",
      "  2.31823519e-01 -9.02557671e-02 -1.85356624e-02 -3.59985270e-02\n",
      " -2.18492076e-01 -3.74542698e-02 -1.33446172e-01 -1.46663375e-02\n",
      " -1.28970921e-01 -5.31877279e-02 -9.67253372e-02  6.52965158e-02\n",
      "  3.67804058e-02  3.78243960e-02 -1.79342050e-02 -6.35600388e-02\n",
      " -3.46156396e-02  4.54589985e-02 -1.32175848e-01  6.52020425e-02\n",
      "  7.24387355e-05  3.98975909e-02 -6.35139942e-02 -1.84112340e-02\n",
      "  5.47658689e-02 -8.15919340e-02 -5.52154779e-02 -6.42137527e-02\n",
      "  1.25363283e-03 -1.10312156e-01  1.16131492e-01 -1.20988684e-02\n",
      " -3.04611605e-02 -5.16643412e-02 -8.17772299e-02  4.02648048e-03\n",
      " -6.12651780e-02 -5.20673394e-02  1.37238607e-01 -5.90113662e-02\n",
      " -9.36998352e-02  6.19485155e-02  7.15416148e-02  6.54940158e-02\n",
      " -9.18800384e-02  2.10420489e-02]\n"
     ]
    }
   ],
   "source": [
    "data = \"\"\n",
    "target = \"le chat aime les oranges\""
   ]
  },
  {
   "cell_type": "code",
   "execution_count": null,
   "metadata": {},
   "outputs": [],
   "source": []
  }
 ],
 "metadata": {
  "kernelspec": {
   "display_name": "Python 3",
   "language": "python",
   "name": "python3"
  },
  "language_info": {
   "codemirror_mode": {
    "name": "ipython",
    "version": 3
   },
   "file_extension": ".py",
   "mimetype": "text/x-python",
   "name": "python",
   "nbconvert_exporter": "python",
   "pygments_lexer": "ipython3",
   "version": "3.9.1"
  }
 },
 "nbformat": 4,
 "nbformat_minor": 4
}
