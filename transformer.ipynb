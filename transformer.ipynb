{
 "cells": [
  {
   "cell_type": "code",
   "execution_count": 14,
   "metadata": {},
   "outputs": [
    {
     "name": "stderr",
     "output_type": "stream",
     "text": [
      "Warning : `load_model` does not return WordVectorModel or SupervisedModel any more, but a `FastText` object which is very similar.\n",
      "Warning : `load_model` does not return WordVectorModel or SupervisedModel any more, but a `FastText` object which is very similar.\n"
     ]
    }
   ],
   "source": [
    "import os\n",
    "\n",
    "import numpy as np\n",
    "import fasttext.util\n",
    "\n",
    "import utils\n",
    "\n",
    "\n",
    "embeddings = utils.get_embeddings([\"en\", \"fr\"])\n",
    "\n",
    "en_emb = embeddings[\"en\"]\n",
    "fr_emb = embeddings[\"fr\"]"
   ]
  },
  {
   "cell_type": "code",
   "execution_count": 24,
   "metadata": {},
   "outputs": [
    {
     "name": "stdout",
     "output_type": "stream",
     "text": [
      "{'input': 'the cat likes oranges', 'target': 'le chat aime les oranges', 'input_embedding': array([[-0.5182527 , -0.9061638 , -0.04714704, ...,  0.04280908,\n",
      "        -0.06851938, -0.19507888],\n",
      "       [-0.8776118 , -0.7729272 ,  0.5792537 , ..., -0.17134905,\n",
      "        -0.1460293 , -0.13053119],\n",
      "       [-0.71961725, -0.52908766,  0.5237209 , ..., -0.03098838,\n",
      "        -0.15629089, -0.15724346],\n",
      "       ...,\n",
      "       [-1.0428712 , -0.7903011 ,  0.607052  , ..., -0.19600642,\n",
      "        -0.21209705, -0.00333394],\n",
      "       [-0.71961725, -0.52908766,  0.5237209 , ..., -0.03098838,\n",
      "        -0.15629089, -0.15724346],\n",
      "       [-0.3276937 , -0.29456747, -0.00516166, ...,  0.00287222,\n",
      "        -0.3934638 , -0.41856185]], dtype=float32), 'target_embedding': array([[ 0.10709047, -0.5281988 ,  0.01931942, ...,  0.14863157,\n",
      "        -0.30329764, -0.2179346 ],\n",
      "       [-0.67744225, -0.53106266,  0.30984983, ..., -0.06004798,\n",
      "         0.1117549 , -0.00478937],\n",
      "       [ 0.        ,  0.        ,  0.        , ...,  0.        ,\n",
      "         0.        ,  0.        ],\n",
      "       ...,\n",
      "       [-1.1296868 , -0.97862774,  0.44244948, ...,  0.00613306,\n",
      "         0.13409777, -0.1828228 ],\n",
      "       [-0.67744225, -0.53106266,  0.30984983, ..., -0.06004798,\n",
      "         0.1117549 , -0.00478937],\n",
      "       [-0.19802126, -0.5308491 ,  0.63903207, ...,  0.23700394,\n",
      "        -0.12561794,  0.10434902]], dtype=float32)}\n"
     ]
    }
   ],
   "source": [
    "data = [\"the cat likes oranges\", \"hello my friend\"]\n",
    "target = [\"le chat aime les oranges\", \"bonjour mon amie\"]\n",
    "\n",
    "class TranslationDataset():\n",
    "    def __init__(self, inputs, targets, embeddings):\n",
    "        self.inputs = inputs \n",
    "        self.targets = targets \n",
    "        \n",
    "        # Encoders for both languages\n",
    "        en_i = embeddings[\"en\"]\n",
    "        en_t = embeddings[\"fr\"]\n",
    "        \n",
    "        self.input_em = []\n",
    "        for seq in inputs:\n",
    "            self.input_em.append(np.array([en_i.get_word_vector(w) for w in seq]))\n",
    "            \n",
    "        self.target_em = []\n",
    "        for seq in targets:\n",
    "            self.target_em.append(np.array([en_t.get_word_vector(w) for w in seq]))\n",
    "\n",
    "    def __len__(self):\n",
    "        return (len(self.sequence))\n",
    "\n",
    "    def __getitem__(self, idx):\n",
    "        return({\n",
    "            \"input\":self.inputs[idx],\n",
    "            \"target\":self.targets[idx],\n",
    "            \"input_embedding\":self.input_em[idx],\n",
    "            \"target_embedding\":self.target_em[idx],\n",
    "        })\n",
    "\n",
    "dataset = TranslationDataset(data, target, embeddings) \n",
    "\n",
    "print(dataset[0])"
   ]
  },
  {
   "cell_type": "code",
   "execution_count": null,
   "metadata": {},
   "outputs": [],
   "source": []
  }
 ],
 "metadata": {
  "kernelspec": {
   "display_name": "Python 3",
   "language": "python",
   "name": "python3"
  },
  "language_info": {
   "codemirror_mode": {
    "name": "ipython",
    "version": 3
   },
   "file_extension": ".py",
   "mimetype": "text/x-python",
   "name": "python",
   "nbconvert_exporter": "python",
   "pygments_lexer": "ipython3",
   "version": "3.9.1"
  }
 },
 "nbformat": 4,
 "nbformat_minor": 4
}
